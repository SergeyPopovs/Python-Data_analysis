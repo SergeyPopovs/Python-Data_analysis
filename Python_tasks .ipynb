{
 "cells": [
  {
   "cell_type": "markdown",
   "id": "dbc7b0c6",
   "metadata": {},
   "source": [
    "1. Написать программу, которая будет выводить на экран числа Фибоначчи до заданного числа."
   ]
  },
  {
   "cell_type": "markdown",
   "id": "d6d6f947",
   "metadata": {},
   "source": [
    "Числа Фибоначчи (строка Фибоначчи) — числовая последовательность, первые два числа которой являются 0 и 1, а каждое последующее за ними число является суммой двух предыдущих."
   ]
  },
  {
   "cell_type": "code",
   "execution_count": 1,
   "id": "28fcc1cf",
   "metadata": {},
   "outputs": [],
   "source": [
    "#сделаем функцию с ограничением как указано в задании (L)\n",
    "def fibo(L):\n",
    "    sequence=[]\n",
    "    a=0\n",
    "    b=1\n",
    "    while b<=L:\n",
    "        a,b=b,b+a   \n",
    "#воспользуемся методом добавления .append()\n",
    "        sequence.append(a)\n",
    "    return sequence\n",
    "        "
   ]
  },
  {
   "cell_type": "code",
   "execution_count": 2,
   "id": "3d9ff7dc",
   "metadata": {},
   "outputs": [
    {
     "data": {
      "text/plain": [
       "[1, 1, 2, 3, 5, 8, 13, 21, 34, 55, 89, 144]"
      ]
     },
     "execution_count": 2,
     "metadata": {},
     "output_type": "execute_result"
    }
   ],
   "source": [
    "fibo(L=200)"
   ]
  },
  {
   "cell_type": "markdown",
   "id": "55b5fb38",
   "metadata": {},
   "source": [
    "2. Напишите программу, которая на вход принимает список чисел и возвращает только уникальные значения из этого списка."
   ]
  },
  {
   "cell_type": "code",
   "execution_count": 46,
   "id": "8c5507ff",
   "metadata": {},
   "outputs": [
    {
     "name": "stdout",
     "output_type": "stream",
     "text": [
      "8\n",
      "9\n",
      "5\n",
      "female\n",
      "!\n",
      "CPU times: total: 0 ns\n",
      "Wall time: 833 µs\n"
     ]
    }
   ],
   "source": [
    "%%time\n",
    "new_lst=['7', '8', '9', '4', '5', '7' ,'4', 'MALE', 'FEMALE', 'male', 'MaLe' ,'malE', '!']\n",
    "new_lst2=[]\n",
    "#new_lst = input(\"Введите элементы массива: \").split() \n",
    "#воспользуемся конструкцией \"for item in lst\" которая используется для перебора самих элементов в списке \n",
    "#с помощью методов append и lower создадим список с элементами в нижнем регистре\n",
    "for j in new_lst:\n",
    "    if isinstance(j,(float,int)):\n",
    "        new_lst2.append(j)\n",
    "    new_lst2.append(j.lower())\n",
    "for k in new_lst2:\n",
    "#воспользуемся методом поиска кол-ва повторений того или иного элемента .count()\n",
    "    count=new_lst2.count(k)\n",
    "    if count==1:\n",
    "        print(k)"
   ]
  },
  {
   "cell_type": "markdown",
   "id": "dd84316f",
   "metadata": {},
   "source": [
    "3. Напишите программу, которая переводит температуру в градусах Фаренгейта в градусы Цельсия."
   ]
  },
  {
   "cell_type": "markdown",
   "id": "008993c2",
   "metadata": {},
   "source": [
    "Для перевода температуры из шкалы Фаренгейта в шкалу Цельсия нужно от исходного числа отнять 32 и умножить результат на 5/9."
   ]
  },
  {
   "cell_type": "code",
   "execution_count": 129,
   "id": "0bd3522c",
   "metadata": {},
   "outputs": [
    {
     "name": "stdout",
     "output_type": "stream",
     "text": [
      "Введите температуру в градусах по Фаренгейту: 250\n",
      "Температура в градусах по Цельсию:  121.11\n"
     ]
    }
   ],
   "source": [
    "temper= input(\"Введите температуру в градусах по Фаренгейту: \")\n",
    "#переведем в число типа \"float\" \n",
    "temp_F=float(temper)\n",
    "temp_C=(temp_F-32)*5/9\n",
    "#округлим до 2 знаков после запятой\n",
    "rounded_C=round(temp_C,2)\n",
    "print(\"Температура в градусах по Цельсию: \",rounded_C)"
   ]
  },
  {
   "cell_type": "markdown",
   "id": "caaa8289",
   "metadata": {},
   "source": [
    "4. Напишите программу, которая проверяет, является ли строка палиндромом без использования стандартных методов."
   ]
  },
  {
   "cell_type": "markdown",
   "id": "0954faae",
   "metadata": {},
   "source": [
    "Палиндромом называется строка, которая одинаково читается как слева направо, так и справа налево(казак,шалаш и др.)."
   ]
  },
  {
   "cell_type": "code",
   "execution_count": 205,
   "id": "1945c580",
   "metadata": {},
   "outputs": [
    {
     "name": "stdout",
     "output_type": "stream",
     "text": [
      "Введите строку: казак\n",
      "Строка:  казак  ,является палиндромом\n"
     ]
    }
   ],
   "source": [
    "new_str = input(\"Введите строку: \")\n",
    "#сравним строку по полным срезам с разных сторон\n",
    "if new_str[0:len(new_str)]==new_str[::-1]:\n",
    "    print(\"Строка: \", new_str,\" ,является палиндромом\")\n",
    "else: print(\"Строка: \", new_str,\", не является палиндромом\")"
   ]
  },
  {
   "cell_type": "code",
   "execution_count": null,
   "id": "6bf9f82a",
   "metadata": {},
   "outputs": [],
   "source": []
  }
 ],
 "metadata": {
  "kernelspec": {
   "display_name": "Python 3 (ipykernel)",
   "language": "python",
   "name": "python3"
  },
  "language_info": {
   "codemirror_mode": {
    "name": "ipython",
    "version": 3
   },
   "file_extension": ".py",
   "mimetype": "text/x-python",
   "name": "python",
   "nbconvert_exporter": "python",
   "pygments_lexer": "ipython3",
   "version": "3.11.4"
  }
 },
 "nbformat": 4,
 "nbformat_minor": 5
}
